{
  "cells": [
    {
      "cell_type": "markdown",
      "source": [
        "- Dataset : fashionmnist"
      ],
      "metadata": {
        "id": "N3Oz7b3tZNmL"
      }
    },
    {
      "cell_type": "markdown",
      "source": [
        "### Imports"
      ],
      "metadata": {
        "id": "5to-FxyNZeUY"
      }
    },
    {
      "cell_type": "code",
      "source": [
        "import numpy as np\n",
        "import tensorflow as tf\n",
        "from tensorflow.keras.datasets import fashion_mnist"
      ],
      "metadata": {
        "id": "UD2OYQlyZAfr"
      },
      "execution_count": 1,
      "outputs": []
    },
    {
      "cell_type": "markdown",
      "source": [
        "### Data Preprocessing"
      ],
      "metadata": {
        "id": "n6UQsQqnZaiT"
      }
    },
    {
      "cell_type": "code",
      "source": [
        "(X_train, y_train), (X_test, y_test) = fashion_mnist.load_data()"
      ],
      "metadata": {
        "id": "MF-fmmjeZAdO"
      },
      "execution_count": 2,
      "outputs": []
    },
    {
      "cell_type": "markdown",
      "source": [
        "### Normalizing the Images"
      ],
      "metadata": {
        "id": "N9hxHys7ZsB-"
      }
    },
    {
      "cell_type": "code",
      "source": [
        "X_train = X_train / 255\n",
        "X_test = X_test / 255"
      ],
      "metadata": {
        "id": "fbbdp2OfZ8ts"
      },
      "execution_count": 3,
      "outputs": []
    },
    {
      "cell_type": "markdown",
      "source": [
        "### Reshaping the Dataset"
      ],
      "metadata": {
        "id": "OAyUk_4NagCF"
      }
    },
    {
      "cell_type": "code",
      "source": [
        "X_train = X_train.reshape(-1, 28*28)"
      ],
      "metadata": {
        "id": "0q7OERD9afk3"
      },
      "execution_count": 4,
      "outputs": []
    },
    {
      "cell_type": "code",
      "source": [
        "X_train.shape"
      ],
      "metadata": {
        "id": "SSA8NtRwafet",
        "outputId": "792cb8ec-918e-4a63-b1b9-88656ece348f",
        "colab": {
          "base_uri": "https://localhost:8080/"
        }
      },
      "execution_count": 5,
      "outputs": [
        {
          "output_type": "execute_result",
          "data": {
            "text/plain": [
              "(60000, 784)"
            ]
          },
          "metadata": {},
          "execution_count": 5
        }
      ]
    },
    {
      "cell_type": "code",
      "source": [
        "X_test = X_test.reshape(-1, 28*28)"
      ],
      "metadata": {
        "id": "CdvT9HM6a4KN"
      },
      "execution_count": 6,
      "outputs": []
    },
    {
      "cell_type": "code",
      "source": [
        "X_test.shape"
      ],
      "metadata": {
        "id": "lspoTRxDa4Hx",
        "outputId": "f7e843f5-6b7f-4b6f-a7e3-af16a8924497",
        "colab": {
          "base_uri": "https://localhost:8080/"
        }
      },
      "execution_count": 7,
      "outputs": [
        {
          "output_type": "execute_result",
          "data": {
            "text/plain": [
              "(10000, 784)"
            ]
          },
          "metadata": {},
          "execution_count": 7
        }
      ]
    },
    {
      "cell_type": "markdown",
      "source": [
        "### Building an ANN"
      ],
      "metadata": {
        "id": "0Amej5SQbZFA"
      }
    },
    {
      "cell_type": "code",
      "source": [
        "model = tf.keras.models.Sequential()"
      ],
      "metadata": {
        "id": "kmjLKi1_a4Fu"
      },
      "execution_count": 16,
      "outputs": []
    },
    {
      "cell_type": "code",
      "source": [
        "\n",
        "# hidden layer aktivasyon katmanı relu\n",
        "# drop out regularization olarak kullanılır\n",
        "# output katmanındaki aktivasyon fonksiyonu softmax"
      ],
      "metadata": {
        "id": "ZDsdV1F0ZAYd"
      },
      "execution_count": 17,
      "outputs": []
    },
    {
      "cell_type": "code",
      "source": [
        "model.add(tf.keras.layers.Dense(units = 128, activation='relu', input_shape = (784,)))\n",
        "  # Layer hyper-parameters:\n",
        "    # number of units/neuron/nodes  : 128\n",
        "    # Activation function           : ReLU\n",
        "    # input_shape                   : 784\n",
        "model.add(tf.keras.layers.Dropout(0.2))\n",
        "  # Dropout is a Regularization technique where we randomly set neurons in a layer to zero.\n",
        "  # That may while training those neurons won't be updated.\n",
        "  # The technique for overfitting.\n",
        "model.add(tf.keras.layers.Dense(units = 10, activation = 'softmax'))\n",
        "  # units           : number of classes (10 in the Fashion MNIST dataset)\n",
        "  # activation      : softmax"
      ],
      "metadata": {
        "id": "S-BFrOYSZAV2"
      },
      "execution_count": 18,
      "outputs": []
    },
    {
      "cell_type": "code",
      "source": [
        "model.compile(\n",
        "    optimizer = 'adam',\n",
        "    loss = 'sparse_categorical_crossentropy',\n",
        "    metrics = ['sparse_categorical_accuracy']\n",
        ")\n",
        "\n",
        "#Optimizer  : Adam\n",
        "# Loss      : Sparse Softmax (Categorical) Cross Entropy"
      ],
      "metadata": {
        "id": "DjhBiVnBZATk"
      },
      "execution_count": 19,
      "outputs": []
    },
    {
      "cell_type": "code",
      "source": [
        "model.summary()"
      ],
      "metadata": {
        "id": "bAA9BYNud6F6",
        "outputId": "f3088534-6c1a-4dbc-b6c4-e3b480ce02a8",
        "colab": {
          "base_uri": "https://localhost:8080/"
        }
      },
      "execution_count": 20,
      "outputs": [
        {
          "output_type": "stream",
          "name": "stdout",
          "text": [
            "Model: \"sequential_1\"\n",
            "_________________________________________________________________\n",
            " Layer (type)                Output Shape              Param #   \n",
            "=================================================================\n",
            " dense_2 (Dense)             (None, 128)               100480    \n",
            "                                                                 \n",
            " dropout_1 (Dropout)         (None, 128)               0         \n",
            "                                                                 \n",
            " dense_3 (Dense)             (None, 10)                1290      \n",
            "                                                                 \n",
            "=================================================================\n",
            "Total params: 101770 (397.54 KB)\n",
            "Trainable params: 101770 (397.54 KB)\n",
            "Non-trainable params: 0 (0.00 Byte)\n",
            "_________________________________________________________________\n"
          ]
        }
      ]
    },
    {
      "cell_type": "markdown",
      "source": [
        "### Training the Model"
      ],
      "metadata": {
        "id": "Ri-VrDZFjh-9"
      }
    },
    {
      "cell_type": "code",
      "source": [
        "# model.fit(X_train, y_train, epochs= 20) #modeli 20 kere dönmesi gerektiğini belirtir.\n",
        "\n",
        "history = model.fit(X_train, y_train, epochs= 5)"
      ],
      "metadata": {
        "id": "dRIWSzRbd7Pa",
        "outputId": "837eea2b-08e3-48ac-dd40-8e760c2b41a3",
        "colab": {
          "base_uri": "https://localhost:8080/"
        }
      },
      "execution_count": 21,
      "outputs": [
        {
          "output_type": "stream",
          "name": "stdout",
          "text": [
            "Epoch 1/5\n",
            "1875/1875 [==============================] - 9s 4ms/step - loss: 0.5331 - sparse_categorical_accuracy: 0.8122\n",
            "Epoch 2/5\n",
            "1875/1875 [==============================] - 7s 4ms/step - loss: 0.4020 - sparse_categorical_accuracy: 0.8540\n",
            "Epoch 3/5\n",
            "1875/1875 [==============================] - 7s 4ms/step - loss: 0.3672 - sparse_categorical_accuracy: 0.8652\n",
            "Epoch 4/5\n",
            "1875/1875 [==============================] - 7s 4ms/step - loss: 0.3441 - sparse_categorical_accuracy: 0.8741\n",
            "Epoch 5/5\n",
            "1875/1875 [==============================] - 7s 4ms/step - loss: 0.3316 - sparse_categorical_accuracy: 0.8793\n"
          ]
        }
      ]
    },
    {
      "cell_type": "code",
      "source": [
        "history.history"
      ],
      "metadata": {
        "collapsed": true,
        "id": "erDnE_UDj0DK",
        "outputId": "b0a65497-e5aa-45a7-c3d9-a79234665cca",
        "colab": {
          "base_uri": "https://localhost:8080/"
        }
      },
      "execution_count": 15,
      "outputs": [
        {
          "output_type": "execute_result",
          "data": {
            "text/plain": [
              "{'loss': [0.5338612794876099,\n",
              "  0.40325021743774414,\n",
              "  0.3677319288253784,\n",
              "  0.3482535779476166,\n",
              "  0.33495110273361206,\n",
              "  0.31864580512046814,\n",
              "  0.3088972270488739,\n",
              "  0.3013322651386261,\n",
              "  0.29212409257888794,\n",
              "  0.28561148047447205,\n",
              "  0.2811155617237091,\n",
              "  0.27445995807647705,\n",
              "  0.26805320382118225,\n",
              "  0.26502755284309387,\n",
              "  0.2606254518032074,\n",
              "  0.25375616550445557,\n",
              "  0.25052714347839355,\n",
              "  0.2457997053861618,\n",
              "  0.24210406839847565,\n",
              "  0.23871520161628723],\n",
              " 'sparse_categorical_accuracy': [0.812666654586792,\n",
              "  0.8528833389282227,\n",
              "  0.8659833073616028,\n",
              "  0.8722833395004272,\n",
              "  0.8771833181381226,\n",
              "  0.8820000290870667,\n",
              "  0.885450005531311,\n",
              "  0.8880500197410583,\n",
              "  0.8921666741371155,\n",
              "  0.8940500020980835,\n",
              "  0.8951833248138428,\n",
              "  0.8970500230789185,\n",
              "  0.8997499942779541,\n",
              "  0.9004999995231628,\n",
              "  0.9020000100135803,\n",
              "  0.9043499827384949,\n",
              "  0.9056333303451538,\n",
              "  0.9071999788284302,\n",
              "  0.908216655254364,\n",
              "  0.9089000225067139]}"
            ]
          },
          "metadata": {},
          "execution_count": 15
        }
      ]
    },
    {
      "cell_type": "code",
      "source": [
        "history.history.keys()"
      ],
      "metadata": {
        "id": "GTuoZXyUkcwP",
        "outputId": "85d5de5c-982f-4984-f981-91328ecdc419",
        "colab": {
          "base_uri": "https://localhost:8080/"
        }
      },
      "execution_count": 16,
      "outputs": [
        {
          "output_type": "execute_result",
          "data": {
            "text/plain": [
              "dict_keys(['loss', 'sparse_categorical_accuracy'])"
            ]
          },
          "metadata": {},
          "execution_count": 16
        }
      ]
    },
    {
      "cell_type": "markdown",
      "source": [
        "### Model Evaluation and Prediction"
      ],
      "metadata": {
        "id": "pxN2ZCeikv_3"
      }
    },
    {
      "cell_type": "code",
      "source": [
        "# #with Epochs 20\n",
        "# test_loss, test_accuracy = model.evaluate(X_test, y_test)\n",
        "# print(\"Test Accuracy : {}\".format(test_accuracy))\n",
        "\n",
        "# # Accuracy Score = 0.8875\n",
        "# # Training accuracy = 0.90"
      ],
      "metadata": {
        "id": "FkETGNCZkqHu",
        "outputId": "25ee44ed-7324-4419-c58b-9c0edbc77646",
        "colab": {
          "base_uri": "https://localhost:8080/"
        }
      },
      "execution_count": 17,
      "outputs": [
        {
          "output_type": "stream",
          "name": "stdout",
          "text": [
            "313/313 [==============================] - 1s 2ms/step - loss: 0.3329 - sparse_categorical_accuracy: 0.8875\n",
            "Test Accuracy : 0.887499988079071\n"
          ]
        }
      ]
    },
    {
      "cell_type": "code",
      "source": [
        "# #with Epochs 10\n",
        "# test_loss, test_accuracy = model.evaluate(X_test, y_test)\n",
        "# print(\"Test Accuracy : {}\".format(test_accuracy))\n",
        "\n",
        "# # Test Accuracy Score = 0.87\n",
        "# # Training accuracy = 0.89"
      ],
      "metadata": {
        "id": "GmtRFrK2lEUo",
        "outputId": "576eb413-a3e4-4e58-cab3-8cdb7b00082c",
        "colab": {
          "base_uri": "https://localhost:8080/"
        }
      },
      "execution_count": 14,
      "outputs": [
        {
          "output_type": "stream",
          "name": "stdout",
          "text": [
            "313/313 [==============================] - 1s 2ms/step - loss: 0.3395 - sparse_categorical_accuracy: 0.8769\n",
            "Test Accuracy : 0.8769000172615051\n"
          ]
        }
      ]
    },
    {
      "cell_type": "code",
      "source": [
        "#with Epochs 10\n",
        "test_loss, test_accuracy = model.evaluate(X_test, y_test)\n",
        "print(\"Test Accuracy : {}\".format(test_accuracy))\n",
        "\n",
        "# Test Accuracy Score = 0.86\n",
        "# Training accuracy = 0.87"
      ],
      "metadata": {
        "id": "-QXIPBAwmaFM",
        "outputId": "bc76ad50-49a7-4423-f1b4-0ebb7b05df29",
        "colab": {
          "base_uri": "https://localhost:8080/"
        }
      },
      "execution_count": 22,
      "outputs": [
        {
          "output_type": "stream",
          "name": "stdout",
          "text": [
            "313/313 [==============================] - 1s 2ms/step - loss: 0.3653 - sparse_categorical_accuracy: 0.8655\n",
            "Test Accuracy : 0.8654999732971191\n"
          ]
        }
      ]
    },
    {
      "cell_type": "code",
      "source": [
        "# Optimizers Kaynakları\n",
        "\n",
        "        # https://www.upgrad.com/blog/types-of-optimizers-in-deep-learning\n",
        "        # https://towardsdatascience.com/optimizers-for-training-neural-network-59450d71caf6\n",
        "        # https://algorithmia.com/blog/introduction-to-optimizers\n",
        "        # https://medium.datadriveninvestor.com/overview-of-different-optimizers-for-neural-networks-e0ed119440c3\n",
        "        # https://blog.paperspace.com/optimization-in-deep-learning/"
      ],
      "metadata": {
        "id": "gFd1OoaDnned"
      },
      "execution_count": 23,
      "outputs": []
    },
    {
      "cell_type": "markdown",
      "source": [
        "### Save Model"
      ],
      "metadata": {
        "id": "AjvCo8qxq1TT"
      }
    },
    {
      "cell_type": "code",
      "source": [
        "# model.save(\"model.model\")\n",
        "# model.save(\"model.network\")\n",
        "# model.save(\"model.h5\")\n",
        "model.save(\"model.keras\")"
      ],
      "metadata": {
        "id": "w1mqZM6Yowrw"
      },
      "execution_count": 25,
      "outputs": []
    },
    {
      "cell_type": "markdown",
      "source": [
        "### Load Model"
      ],
      "metadata": {
        "id": "7UeKL390q2tg"
      }
    },
    {
      "cell_type": "code",
      "source": [
        "modelx = tf.keras.models.load_model(\"model.keras\")"
      ],
      "metadata": {
        "id": "ZZhRXQo4pI6s"
      },
      "execution_count": 28,
      "outputs": []
    },
    {
      "cell_type": "code",
      "source": [],
      "metadata": {
        "id": "hkh44iksqtlN"
      },
      "execution_count": null,
      "outputs": []
    }
  ],
  "metadata": {
    "colab": {
      "name": "Welcome To Colab",
      "provenance": []
    },
    "kernelspec": {
      "display_name": "Python 3",
      "name": "python3"
    }
  },
  "nbformat": 4,
  "nbformat_minor": 0
}